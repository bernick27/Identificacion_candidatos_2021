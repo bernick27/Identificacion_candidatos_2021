{
  "nbformat": 4,
  "nbformat_minor": 0,
  "metadata": {
    "colab": {
      "name": "CuadernoTrabajo_Original.ipynb",
      "provenance": [],
      "collapsed_sections": [],
      "include_colab_link": true
    },
    "kernelspec": {
      "name": "python3",
      "display_name": "Python 3"
    }
  },
  "cells": [
    {
      "cell_type": "markdown",
      "metadata": {
        "id": "view-in-github",
        "colab_type": "text"
      },
      "source": [
        "<a href=\"https://colab.research.google.com/github/bernick27/Identificacion_candidatos_2021/blob/main/CuadernoTrabajo_Original.ipynb\" target=\"_parent\"><img src=\"https://colab.research.google.com/assets/colab-badge.svg\" alt=\"Open In Colab\"/></a>"
      ]
    },
    {
      "cell_type": "code",
      "metadata": {
        "colab": {
          "base_uri": "https://localhost:8080/"
        },
        "id": "6h4iOK8_StqA",
        "outputId": "7070cc3e-5d0f-454c-8e9d-66a1b7b7f9c7"
      },
      "source": [
        "!python -V"
      ],
      "execution_count": null,
      "outputs": [
        {
          "output_type": "stream",
          "text": [
            "Python 3.6.9\n"
          ],
          "name": "stdout"
        }
      ]
    },
    {
      "cell_type": "markdown",
      "metadata": {
        "id": "hINMW-8AbpxT"
      },
      "source": [
        "## Requisitos"
      ]
    },
    {
      "cell_type": "code",
      "metadata": {
        "colab": {
          "base_uri": "https://localhost:8080/"
        },
        "id": "tTU3dn0mTlmx",
        "outputId": "70506d75-86d3-4c58-9f35-598c00e176c4"
      },
      "source": [
        "!pip install pytube\n",
        "!pip install librosa\n",
        "!pip install soundfile\n",
        "!apt install ffmpeg"
      ],
      "execution_count": null,
      "outputs": [
        {
          "output_type": "stream",
          "text": [
            "Collecting pytube\n",
            "\u001b[?25l  Downloading https://files.pythonhosted.org/packages/3c/1d/013b6498ecaa876d0d9722698f96faa4830266b306cd18c12b847bd10291/pytube-10.4.1-py3-none-any.whl (42kB)\n",
            "\r\u001b[K     |███████▋                        | 10kB 14.6MB/s eta 0:00:01\r\u001b[K     |███████████████▎                | 20kB 20.0MB/s eta 0:00:01\r\u001b[K     |███████████████████████         | 30kB 8.8MB/s eta 0:00:01\r\u001b[K     |██████████████████████████████▌ | 40kB 8.4MB/s eta 0:00:01\r\u001b[K     |████████████████████████████████| 51kB 2.7MB/s \n",
            "\u001b[?25hRequirement already satisfied: typing-extensions in /usr/local/lib/python3.6/dist-packages (from pytube) (3.7.4.3)\n",
            "Installing collected packages: pytube\n",
            "Successfully installed pytube-10.4.1\n",
            "Requirement already satisfied: librosa in /usr/local/lib/python3.6/dist-packages (0.8.0)\n",
            "Requirement already satisfied: scikit-learn!=0.19.0,>=0.14.0 in /usr/local/lib/python3.6/dist-packages (from librosa) (0.22.2.post1)\n",
            "Requirement already satisfied: scipy>=1.0.0 in /usr/local/lib/python3.6/dist-packages (from librosa) (1.4.1)\n",
            "Requirement already satisfied: soundfile>=0.9.0 in /usr/local/lib/python3.6/dist-packages (from librosa) (0.10.3.post1)\n",
            "Requirement already satisfied: audioread>=2.0.0 in /usr/local/lib/python3.6/dist-packages (from librosa) (2.1.9)\n",
            "Requirement already satisfied: decorator>=3.0.0 in /usr/local/lib/python3.6/dist-packages (from librosa) (4.4.2)\n",
            "Requirement already satisfied: resampy>=0.2.2 in /usr/local/lib/python3.6/dist-packages (from librosa) (0.2.2)\n",
            "Requirement already satisfied: numpy>=1.15.0 in /usr/local/lib/python3.6/dist-packages (from librosa) (1.19.5)\n",
            "Requirement already satisfied: pooch>=1.0 in /usr/local/lib/python3.6/dist-packages (from librosa) (1.3.0)\n",
            "Requirement already satisfied: joblib>=0.14 in /usr/local/lib/python3.6/dist-packages (from librosa) (1.0.0)\n",
            "Requirement already satisfied: numba>=0.43.0 in /usr/local/lib/python3.6/dist-packages (from librosa) (0.51.2)\n",
            "Requirement already satisfied: cffi>=1.0 in /usr/local/lib/python3.6/dist-packages (from soundfile>=0.9.0->librosa) (1.14.4)\n",
            "Requirement already satisfied: six>=1.3 in /usr/local/lib/python3.6/dist-packages (from resampy>=0.2.2->librosa) (1.15.0)\n",
            "Requirement already satisfied: appdirs in /usr/local/lib/python3.6/dist-packages (from pooch>=1.0->librosa) (1.4.4)\n",
            "Requirement already satisfied: requests in /usr/local/lib/python3.6/dist-packages (from pooch>=1.0->librosa) (2.23.0)\n",
            "Requirement already satisfied: packaging in /usr/local/lib/python3.6/dist-packages (from pooch>=1.0->librosa) (20.9)\n",
            "Requirement already satisfied: setuptools in /usr/local/lib/python3.6/dist-packages (from numba>=0.43.0->librosa) (53.0.0)\n",
            "Requirement already satisfied: llvmlite<0.35,>=0.34.0.dev0 in /usr/local/lib/python3.6/dist-packages (from numba>=0.43.0->librosa) (0.34.0)\n",
            "Requirement already satisfied: pycparser in /usr/local/lib/python3.6/dist-packages (from cffi>=1.0->soundfile>=0.9.0->librosa) (2.20)\n",
            "Requirement already satisfied: idna<3,>=2.5 in /usr/local/lib/python3.6/dist-packages (from requests->pooch>=1.0->librosa) (2.10)\n",
            "Requirement already satisfied: certifi>=2017.4.17 in /usr/local/lib/python3.6/dist-packages (from requests->pooch>=1.0->librosa) (2020.12.5)\n",
            "Requirement already satisfied: chardet<4,>=3.0.2 in /usr/local/lib/python3.6/dist-packages (from requests->pooch>=1.0->librosa) (3.0.4)\n",
            "Requirement already satisfied: urllib3!=1.25.0,!=1.25.1,<1.26,>=1.21.1 in /usr/local/lib/python3.6/dist-packages (from requests->pooch>=1.0->librosa) (1.24.3)\n",
            "Requirement already satisfied: pyparsing>=2.0.2 in /usr/local/lib/python3.6/dist-packages (from packaging->pooch>=1.0->librosa) (2.4.7)\n",
            "Requirement already satisfied: soundfile in /usr/local/lib/python3.6/dist-packages (0.10.3.post1)\n",
            "Requirement already satisfied: cffi>=1.0 in /usr/local/lib/python3.6/dist-packages (from soundfile) (1.14.4)\n",
            "Requirement already satisfied: pycparser in /usr/local/lib/python3.6/dist-packages (from cffi>=1.0->soundfile) (2.20)\n",
            "Reading package lists... Done\n",
            "Building dependency tree       \n",
            "Reading state information... Done\n",
            "ffmpeg is already the newest version (7:3.4.8-0ubuntu0.2).\n",
            "0 upgraded, 0 newly installed, 0 to remove and 17 not upgraded.\n"
          ],
          "name": "stdout"
        }
      ]
    },
    {
      "cell_type": "markdown",
      "metadata": {
        "id": "16OHbCSjbvEM"
      },
      "source": [
        "## Librerías"
      ]
    },
    {
      "cell_type": "code",
      "metadata": {
        "id": "91GMYKjtazbS"
      },
      "source": [
        "from pytube import YouTube\n",
        "import librosa\n",
        "import soundfile as sf\n",
        "import os\n",
        "import subprocess"
      ],
      "execution_count": null,
      "outputs": []
    },
    {
      "cell_type": "code",
      "metadata": {
        "id": "jxn-RlY8yasn"
      },
      "source": [
        "nro_politicos = 20\r\n",
        "etiquetas = []\r\n",
        "for i in range(1, nro_politicos+1):\r\n",
        "  etiquetas.append('politico '+str(i))"
      ],
      "execution_count": null,
      "outputs": []
    },
    {
      "cell_type": "code",
      "metadata": {
        "id": "uZ8k0dO0b1g7"
      },
      "source": [
        "# Lista de Urls\n",
        "url_audios = [\n",
        "               \"https://www.youtube.com/watch?v=U7JizpfSc1U\",\n",
        "               \"https://www.youtube.com/watch?v=xcq0GAxwd4c\"\n",
        "]"
      ],
      "execution_count": null,
      "outputs": []
    },
    {
      "cell_type": "code",
      "metadata": {
        "id": "8AUuhkfGiAJ4"
      },
      "source": [
        "etiquesta = [\n",
        "             \"persona_01\",\n",
        "             \"persona_02\",\n",
        "             \"persona_03\",\n",
        "             \"persona_04\",\n",
        "             \"persona_05\",\n",
        "             \"persona_06\",\n",
        "             \"persona_07\",\n",
        "             \"otros\"\n",
        "]"
      ],
      "execution_count": null,
      "outputs": []
    },
    {
      "cell_type": "code",
      "metadata": {
        "id": "BtZysyw3i4Sq"
      },
      "source": [
        "os.mkdir(\"descarga\")"
      ],
      "execution_count": null,
      "outputs": []
    },
    {
      "cell_type": "code",
      "metadata": {
        "colab": {
          "base_uri": "https://localhost:8080/"
        },
        "id": "WUfkXb7jiZu_",
        "outputId": "330071b2-db73-4b66-ca1e-6965da44c0ad"
      },
      "source": [
        "list_webm_audios = []\n",
        "for index, valor  in enumerate(url_audios):\n",
        "  youtube = YouTube(valor)\n",
        "  stream = youtube.streams.filter(only_audio=True)\n",
        "  out_file = stream[3].download(\"descarga\")\n",
        "  name_audio = \"descarga/audio\" + str(index + 1).rjust(5,\"0\")[-3:] + \".webm\"\n",
        "  print(name_audio)\n",
        "  os.rename(out_file, name_audio)\n",
        "  list_webm_audios.append(name_audio)  "
      ],
      "execution_count": null,
      "outputs": [
        {
          "output_type": "stream",
          "text": [
            "descarga/audio001.webm\n",
            "descarga/audio002.webm\n"
          ],
          "name": "stdout"
        }
      ]
    },
    {
      "cell_type": "code",
      "metadata": {
        "id": "SV3-y0MpjNSB"
      },
      "source": [
        "def convert(in_file, out_file):  \n",
        "    command = ['ffmpeg', '-i', in_file, out_file]\n",
        "    subprocess.run(command,stdout=subprocess.PIPE,stdin=subprocess.PIPE)"
      ],
      "execution_count": null,
      "outputs": []
    },
    {
      "cell_type": "code",
      "metadata": {
        "colab": {
          "base_uri": "https://localhost:8080/"
        },
        "id": "jKjLw_04kDmT",
        "outputId": "c315bf8f-18d8-4dc6-c4d6-43c5a924a130"
      },
      "source": [
        "list_wav_audios = []\n",
        "for valor in list_webm_audios:\n",
        "  name_audio, ext = os.path.splitext(valor)\n",
        "  name_audio = base + \".wav\"\n",
        "  convert(valor,name_audio)\n",
        "  print(name_audio)\n",
        "  os.remove(valor)\n",
        "  list_wav_audios.append(name_audio)  "
      ],
      "execution_count": null,
      "outputs": [
        {
          "output_type": "stream",
          "text": [
            "descarga/audio002.wav\n",
            "descarga/audio002.wav\n"
          ],
          "name": "stdout"
        }
      ]
    },
    {
      "cell_type": "code",
      "metadata": {
        "id": "b0J_bRQLp1HL"
      },
      "source": [
        ""
      ],
      "execution_count": null,
      "outputs": []
    }
  ]
}